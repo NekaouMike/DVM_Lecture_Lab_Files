{
 "cells": [
  {
   "cell_type": "markdown",
   "id": "f63ae527-4f04-4cba-862a-20134d80c751",
   "metadata": {},
   "source": [
    "# Lab Instructions\n",
    "\n",
    "Find a dataset that interests you. I'd recommend starting on [Kaggle](https://www.kaggle.com/). Read through all of the material about the dataset and download a .CSV file.\n",
    "\n",
    "1. Write a short summary of the data.  Where did it come from?  How was it collected?  What are the features in the data?  Why is this dataset interesting to you?  \n",
    "\n",
    "2. Identify 5 interesting questions about your data that you can answer using Pandas methods.  \n",
    "\n",
    "3. Answer those questions!  You may use any method you want (including LLMs) to help you write your code; however, you should use Pandas to find the answers.  LLMs will not always write code in this way without specific instruction.  \n",
    "\n",
    "4. Write the answer to your question in a text box underneath the code you used to calculate the answer.\n",
    "\n"
   ]
  },
  {
   "cell_type": "markdown",
   "id": "f34ccc36-0e63-41ed-9ab4-0c219f197c0d",
   "metadata": {},
   "source": []
  },
  {
   "cell_type": "markdown",
   "id": "aff92e57-cc53-407e-96ee-ec6852ed164c",
   "metadata": {},
   "source": [
    "1. This dataset has data on the average cost on sudying aboard as a US citizen. This dataset is interesting because I have a friend who went to study aboard and this can show me what I could have been paying if I did the same.\n",
    "2. Where is tution the cheapest for a Undergraduate?\n",
    "    Where is tution the cheapest for a Master’s\n",
    "    Where is tution the cheapest for a PhD?\n",
    "    Where is the rent the cheapest?\n",
    "   Where is the rent the most expensive?\n",
    "3,4,5."
   ]
  },
  {
   "cell_type": "code",
   "execution_count": 28,
   "id": "bc65441d-43b7-4386-a530-91e56e2a77d7",
   "metadata": {},
   "outputs": [
    {
     "name": "stdout",
     "output_type": "stream",
     "text": [
      "=== Tuition Cost Analysis ===\n",
      "Cheapest Undergraduate Tuition: 0 USD in Helsinki, Finland at University of Helsinki\n",
      "Cheapest Master’s Tuition: 0 USD in Stavanger, Norway at University of Stavanger\n",
      "Cheapest PhD Tuition: 0 USD in TromsÃ¸, Norway at UiT Arctic University\n",
      "\n",
      "=== Rent Cost Analysis ===\n",
      "Cheapest Rent: 150 USD/month in Bizerte, Tunisia at University of Carthage\n",
      "Most Expensive Rent: 2500 USD/month in New York, USA at Columbia University\n"
     ]
    }
   ],
   "source": [
    "import pandas as pd\n",
    "\n",
    "df = pd.read_csv('International_Education_Costs.csv', encoding='ISO-8859-1')\n",
    "\n",
    "df['Tuition_USD'] = pd.to_numeric(df['Tuition_USD'], errors='coerce')\n",
    "df['Rent_USD'] = pd.to_numeric(df['Rent_USD'], errors='coerce')\n",
    "\n",
    "df = df.dropna(subset=['Tuition_USD', 'Rent_USD', 'Level'])\n",
    "\n",
    "cheapest_undergrad = df[df['Level'] == 'Bachelor'].sort_values('Tuition_USD').iloc[0]\n",
    "cheapest_masters = df[df['Level'] == \"Master\"].sort_values('Tuition_USD').iloc[0]\n",
    "cheapest_phd = df[df['Level'] == 'PhD'].sort_values('Tuition_USD').iloc[0]\n",
    "cheapest_rent = df.sort_values('Rent_USD').iloc[0]\n",
    "most_expensive_rent = df.sort_values('Rent_USD', ascending=False).iloc[0]\n",
    "\n",
    "print(\"=== Tuition Cost Analysis ===\")\n",
    "print(f\"Cheapest Undergraduate Tuition: {cheapest_undergrad['Tuition_USD']} USD in {cheapest_undergrad['City']}, {cheapest_undergrad['Country']} at {cheapest_undergrad['University']}\")\n",
    "print(f\"Cheapest Master’s Tuition: {cheapest_masters['Tuition_USD']} USD in {cheapest_masters['City']}, {cheapest_masters['Country']} at {cheapest_masters['University']}\")\n",
    "print(f\"Cheapest PhD Tuition: {cheapest_phd['Tuition_USD']} USD in {cheapest_phd['City']}, {cheapest_phd['Country']} at {cheapest_phd['University']}\")\n",
    "\n",
    "print(\"\\n=== Rent Cost Analysis ===\")\n",
    "print(f\"Cheapest Rent: {cheapest_rent['Rent_USD']} USD/month in {cheapest_rent['City']}, {cheapest_rent['Country']} at {cheapest_rent['University']}\")\n",
    "print(f\"Most Expensive Rent: {most_expensive_rent['Rent_USD']} USD/month in {most_expensive_rent['City']}, {most_expensive_rent['Country']} at {most_expensive_rent['University']}\")\n"
   ]
  },
  {
   "cell_type": "code",
   "execution_count": null,
   "id": "c896acaa-2887-4dc4-9c6a-cc6afd11c10a",
   "metadata": {},
   "outputs": [],
   "source": []
  },
  {
   "cell_type": "code",
   "execution_count": null,
   "id": "bf06b2fa-9cbf-4461-81aa-30f056af8760",
   "metadata": {},
   "outputs": [],
   "source": []
  }
 ],
 "metadata": {
  "kernelspec": {
   "display_name": "Python [conda env:base] *",
   "language": "python",
   "name": "conda-base-py"
  },
  "language_info": {
   "codemirror_mode": {
    "name": "ipython",
    "version": 3
   },
   "file_extension": ".py",
   "mimetype": "text/x-python",
   "name": "python",
   "nbconvert_exporter": "python",
   "pygments_lexer": "ipython3",
   "version": "3.12.7"
  }
 },
 "nbformat": 4,
 "nbformat_minor": 5
}
